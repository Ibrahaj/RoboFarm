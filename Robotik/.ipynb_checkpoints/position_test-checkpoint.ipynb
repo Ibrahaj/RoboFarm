{
 "cells": [
  {
   "cell_type": "code",
   "execution_count": null,
   "metadata": {
    "pycharm": {
     "is_executing": false,
     "metadata": false,
     "name": "#%%\n"
    }
   },
   "outputs": [],
   "source": [
    "import pandas as pd\n",
    "import os\n",
    "import numpy as np\n",
    "import matplotlib.pyplot as plt\n",
    "from mpl_toolkits.mplot3d import Axes3D"
   ]
  },
  {
   "cell_type": "code",
   "execution_count": null,
   "metadata": {
    "pycharm": {
     "is_executing": false
    }
   },
   "outputs": [],
   "source": [
    "csvpath_strat =  os.path.join(os.getcwd(),'position.csv')\n",
    "csvpath_end =  os.path.join(os.getcwd(),'end_position.csv')"
   ]
  },
  {
   "cell_type": "code",
   "execution_count": null,
   "metadata": {
    "pycharm": {
     "is_executing": false
    }
   },
   "outputs": [],
   "source": [
    "ball_start_pos = pd.read_csv (csvpath_strat, sep=';',header =[0])\n",
    "ball_end_pos = pd.read_csv (csvpath_end, sep=';',header =[0])"
   ]
  },
  {
   "cell_type": "code",
   "execution_count": null,
   "metadata": {
    "pycharm": {
     "is_executing": false
    }
   },
   "outputs": [],
   "source": [
    "ball_start_pos"
   ]
  },
  {
   "cell_type": "code",
   "execution_count": null,
   "metadata": {
    "pycharm": {
     "is_executing": false
    }
   },
   "outputs": [],
   "source": [
    "ball_end_pos"
   ]
  },
  {
   "cell_type": "code",
   "execution_count": null,
   "metadata": {
    "pycharm": {
     "is_executing": false
    }
   },
   "outputs": [],
   "source": [
    "end_pos_s = ball_end_pos.loc[ball_end_pos['size']=='s'].reset_index(drop=True)\n",
    "end_pos_m = ball_end_pos.loc[ball_end_pos['size']=='m'].reset_index(drop=True)\n",
    "end_pos_l = ball_end_pos.loc[ball_end_pos['size']=='l'].reset_index(drop=True)"
   ]
  },
  {
   "cell_type": "code",
   "execution_count": null,
   "metadata": {
    "pycharm": {
     "is_executing": false
    }
   },
   "outputs": [],
   "source": [
    "s_ball_cnter = 0\n",
    "m_ball_cnter = 0\n",
    "l_ball_cnter = 0"
   ]
  },
  {
   "cell_type": "code",
   "execution_count": null,
   "metadata": {
    "pycharm": {
     "is_executing": false
    }
   },
   "outputs": [],
   "source": [
    "for cnter in range(9):\n",
    "    x_start = ball_start_pos['X'][cnter]\n",
    "    y_start = ball_start_pos['Y'][cnter]\n",
    "    z_start = 1200\n",
    "    x_getball = np.array([0,x_start,x_start,x_start])\n",
    "    y_getball = np.array([0,0,y_start,y_start])\n",
    "    z_getball = np.array([0,0,0,-z_start])\n",
    "    weight = ball_start_pos['W'][cnter]\n",
    "    fig = plt.figure(figsize=[10, 4])\n",
    "    ax = plt.axes(projection='3d')\n",
    "    ax.set(xlim=(0, 4000), ylim=(0, 1300),zlim=(-1300,0))\n",
    "    ax.plot(x_getball, y_getball,z_getball)\n",
    "    ax.set_xlabel('mm')\n",
    "    ax.set_ylabel('mm')\n",
    "    ax.set_zlabel('mm')\n",
    "    plt.title(f'Ballon picking: {cnter+1}')\n",
    "    plt.savefig(f'{cnter+1}_Ballon picking')\n",
    "    #plt.pause(1)\n",
    "    if weight == 1:\n",
    "        x_end = end_pos_s['X'][s_ball_cnter]\n",
    "        y_end = end_pos_s['Y'][s_ball_cnter]\n",
    "        z_end = end_pos_s['Z'][s_ball_cnter]\n",
    "        s_ball_cnter = s_ball_cnter+1\n",
    "        title = 'Small'\n",
    "        \n",
    "    elif weight == 1.5:\n",
    "        x_end = end_pos_m['X'][m_ball_cnter]\n",
    "        y_end = end_pos_m['Y'][m_ball_cnter]\n",
    "        z_end = end_pos_m['Z'][m_ball_cnter]\n",
    "        m_ball_cnter = m_ball_cnter+1\n",
    "        title = 'Medium'\n",
    "    elif weight == 2:\n",
    "        x_end = end_pos_l['X'][m_ball_cnter]\n",
    "        y_end = end_pos_l['Y'][m_ball_cnter]\n",
    "        z_end = end_pos_l['Z'][m_ball_cnter]\n",
    "        l_ball_cnter = l_ball_cnter+1\n",
    "        title = 'Large'\n",
    "    x_putball = np.array([0,x_end,x_end,x_end])\n",
    "    y_putball = np.array([0,0,y_end,y_end])\n",
    "    z_putball = np.array([0,0,0,-z_end])\n",
    "    ax.plot(x_putball, y_putball,z_putball,'red')\n",
    "    plt.title(f'{title} ballon dropping')\n",
    "    plt.draw()\n",
    "    plt.savefig(f'{cnter+1}_{title} ballon dropping')\n",
    "    plt.pause(1)"
   ]
  }
 ],
 "metadata": {
  "kernelspec": {
   "display_name": "Python 3",
   "language": "python",
   "name": "python3"
  },
  "language_info": {
   "codemirror_mode": {
    "name": "ipython",
    "version": 3
   },
   "file_extension": ".py",
   "mimetype": "text/x-python",
   "name": "python",
   "nbconvert_exporter": "python",
   "pygments_lexer": "ipython3",
   "version": "3.7.3"
  },
  "stem_cell": {
   "cell_type": "raw",
   "metadata": {
    "pycharm": {
     "metadata": false
    }
   },
   "source": ""
  }
 },
 "nbformat": 4,
 "nbformat_minor": 1
}

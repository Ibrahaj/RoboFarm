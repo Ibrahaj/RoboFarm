{
 "cells": [
  {
   "cell_type": "code",
   "execution_count": 3,
   "metadata": {
    "pycharm": {
     "is_executing": false,
     "metadata": false,
     "name": "#%%\n"
    }
   },
   "outputs": [],
   "source": [
    "import pandas as pd\n",
    "import os\n",
    "import numpy as np\n",
    "import matplotlib.pyplot as plt\n",
    "from mpl_toolkits.mplot3d import Axes3D"
   ]
  },
  {
   "cell_type": "code",
   "execution_count": 4,
   "metadata": {
    "pycharm": {
     "is_executing": false
    }
   },
   "outputs": [],
   "source": [
    "csvpath_strat =  os.path.join(os.getcwd(),'position.csv')\n",
    "csvpath_end =  os.path.join(os.getcwd(),'end_position.csv')"
   ]
  },
  {
   "cell_type": "code",
   "execution_count": 5,
   "metadata": {
    "pycharm": {
     "is_executing": false
    }
   },
   "outputs": [],
   "source": [
    "ball_start_pos = pd.read_csv (csvpath_strat, sep=';',header =[0])\n",
    "ball_end_pos = pd.read_csv (csvpath_end, sep=';',header =[0])"
   ]
  },
  {
   "cell_type": "code",
   "execution_count": 6,
   "metadata": {
    "pycharm": {
     "is_executing": false
    }
   },
   "outputs": [
    {
     "data": {
      "text/plain": "      X     Y    W\n0   350   350  1.0\n1   350   700  2.0\n2   350  1050  1.5\n3   700   350  2.0\n4   700   700  1.0\n5   700  1050  1.0\n6  1050   350  1.5\n7  1050   700  2.0\n8  1050  1050  1.5",
      "text/html": "<div>\n<style scoped>\n    .dataframe tbody tr th:only-of-type {\n        vertical-align: middle;\n    }\n\n    .dataframe tbody tr th {\n        vertical-align: top;\n    }\n\n    .dataframe thead th {\n        text-align: right;\n    }\n</style>\n<table border=\"1\" class=\"dataframe\">\n  <thead>\n    <tr style=\"text-align: right;\">\n      <th></th>\n      <th>X</th>\n      <th>Y</th>\n      <th>W</th>\n    </tr>\n  </thead>\n  <tbody>\n    <tr>\n      <th>0</th>\n      <td>350</td>\n      <td>350</td>\n      <td>1.0</td>\n    </tr>\n    <tr>\n      <th>1</th>\n      <td>350</td>\n      <td>700</td>\n      <td>2.0</td>\n    </tr>\n    <tr>\n      <th>2</th>\n      <td>350</td>\n      <td>1050</td>\n      <td>1.5</td>\n    </tr>\n    <tr>\n      <th>3</th>\n      <td>700</td>\n      <td>350</td>\n      <td>2.0</td>\n    </tr>\n    <tr>\n      <th>4</th>\n      <td>700</td>\n      <td>700</td>\n      <td>1.0</td>\n    </tr>\n    <tr>\n      <th>5</th>\n      <td>700</td>\n      <td>1050</td>\n      <td>1.0</td>\n    </tr>\n    <tr>\n      <th>6</th>\n      <td>1050</td>\n      <td>350</td>\n      <td>1.5</td>\n    </tr>\n    <tr>\n      <th>7</th>\n      <td>1050</td>\n      <td>700</td>\n      <td>2.0</td>\n    </tr>\n    <tr>\n      <th>8</th>\n      <td>1050</td>\n      <td>1050</td>\n      <td>1.5</td>\n    </tr>\n  </tbody>\n</table>\n</div>"
     },
     "metadata": {},
     "output_type": "execute_result",
     "execution_count": 6
    }
   ],
   "source": [
    "ball_start_pos"
   ]
  },
  {
   "cell_type": "code",
   "execution_count": null,
   "metadata": {
    "pycharm": {
     "is_executing": false
    }
   },
   "outputs": [],
   "source": [
    "ball_end_pos"
   ]
  },
  {
   "cell_type": "code",
   "execution_count": null,
   "metadata": {
    "pycharm": {
     "is_executing": false
    }
   },
   "outputs": [],
   "source": [
    "end_pos_s = ball_end_pos.loc[ball_end_pos['size']=='s'].reset_index(drop=True)\n",
    "end_pos_m = ball_end_pos.loc[ball_end_pos['size']=='m'].reset_index(drop=True)\n",
    "end_pos_l = ball_end_pos.loc[ball_end_pos['size']=='l'].reset_index(drop=True)"
   ]
  },
  {
   "cell_type": "code",
   "execution_count": null,
   "metadata": {
    "pycharm": {
     "is_executing": false
    }
   },
   "outputs": [],
   "source": [
    "s_ball_cnter = 0\n",
    "m_ball_cnter = 0\n",
    "l_ball_cnter = 0"
   ]
  },
  {
   "cell_type": "code",
   "execution_count": null,
   "metadata": {
    "pycharm": {
     "is_executing": false
    }
   },
   "outputs": [],
   "source": [
    "for cnter in range(9):\n",
    "    x_start = ball_start_pos['X'][cnter]\n",
    "    y_start = ball_start_pos['Y'][cnter]\n",
    "    z_start = 1200\n",
    "    x_getball = np.array([0,x_start,x_start,x_start])\n",
    "    y_getball = np.array([0,0,y_start,y_start])\n",
    "    z_getball = np.array([0,0,0,-z_start])\n",
    "    weight = ball_start_pos['W'][cnter]\n",
    "    fig = plt.figure(figsize=[10, 4])\n",
    "    ax = plt.axes(projection='3d')\n",
    "    ax.set(xlim=(0, 4000), ylim=(0, 1300),zlim=(-1300,0))\n",
    "    ax.plot(x_getball, y_getball,z_getball)\n",
    "    ax.set_xlabel('mm')\n",
    "    ax.set_ylabel('mm')\n",
    "    ax.set_zlabel('mm')\n",
    "    plt.title(f'Ballon picking: {cnter+1}')\n",
    "    plt.savefig(f'{cnter+1}_Ballon picking')\n",
    "    #plt.pause(1)\n",
    "    if weight == 1:\n",
    "        x_end = end_pos_s['X'][s_ball_cnter]\n",
    "        y_end = end_pos_s['Y'][s_ball_cnter]\n",
    "        z_end = end_pos_s['Z'][s_ball_cnter]\n",
    "        s_ball_cnter = s_ball_cnter+1\n",
    "        title = 'Small'\n",
    "        \n",
    "    elif weight == 1.5:\n",
    "        x_end = end_pos_m['X'][m_ball_cnter]\n",
    "        y_end = end_pos_m['Y'][m_ball_cnter]\n",
    "        z_end = end_pos_m['Z'][m_ball_cnter]\n",
    "        m_ball_cnter = m_ball_cnter+1\n",
    "        title = 'Medium'\n",
    "    elif weight == 2:\n",
    "        x_end = end_pos_l['X'][l_ball_cnter]\n",
    "        y_end = end_pos_l['Y'][l_ball_cnter]\n",
    "        z_end = end_pos_l['Z'][l_ball_cnter]\n",
    "        l_ball_cnter = l_ball_cnter+1\n",
    "        title = 'Large'\n",
    "    x_putball = np.array([0,x_end,x_end,x_end])\n",
    "    y_putball = np.array([0,0,y_end,y_end])\n",
    "    z_putball = np.array([0,0,0,-z_end])\n",
    "    ax.plot(x_putball, y_putball,z_putball,'red')\n",
    "    plt.title(f'{title} ballon dropping')\n",
    "    plt.draw()\n",
    "    plt.savefig(f'{cnter+1}_{title} ballon dropping')\n",
    "    plt.pause(1)"
   ]
  },
  {
   "cell_type": "code",
   "execution_count": null,
   "metadata": {},
   "outputs": [],
   "source": [
    "class RestBreak(Exception): pass"
   ]
  },
  {
   "cell_type": "code",
   "execution_count": null,
   "metadata": {
    "pycharm": {
     "name": "#%%\n"
    }
   },
   "outputs": [],
   "source": [
    "def breakloop():\n",
    "    raise RestBreak"
   ]
  },
  {
   "cell_type": "code",
   "execution_count": null,
   "metadata": {
    "pycharm": {
     "name": "#%%\n"
    }
   },
   "outputs": [],
   "source": [
    "\n",
    "    for i in range(9):\n",
    "        try:\n",
    "            if i ==5:\n",
    "                breakloop()\n",
    "            else:\n",
    "                print(i)\n",
    "        except RestBreak:\n",
    "            \n",
    "            p = True\n",
    "            break\n",
    "    if not p: \n",
    "        print(100)"
   ]
  },
  {
   "cell_type": "code",
   "execution_count": null,
   "metadata": {},
   "outputs": [],
   "source": []
  },
  {
   "cell_type": "code",
   "execution_count": null,
   "metadata": {},
   "outputs": [],
   "source": []
  }
 ],
 "metadata": {
  "kernelspec": {
   "display_name": "Python 3",
   "language": "python",
   "name": "python3"
  },
  "language_info": {
   "codemirror_mode": {
    "name": "ipython",
    "version": 3
   },
   "file_extension": ".py",
   "mimetype": "text/x-python",
   "name": "python",
   "nbconvert_exporter": "python",
   "pygments_lexer": "ipython3",
   "version": "3.7.6"
  },
  "pycharm": {
   "stem_cell": {
    "cell_type": "raw",
    "source": [],
    "metadata": {
     "collapsed": false
    }
   }
  },
  "stem_cell": {
   "cell_type": "raw",
   "metadata": {
    "pycharm": {
     "metadata": false
    }
   },
   "source": ""
  }
 },
 "nbformat": 4,
 "nbformat_minor": 1
}